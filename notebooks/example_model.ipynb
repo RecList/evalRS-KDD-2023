{
 "cells": [
  {
   "cell_type": "markdown",
   "id": "099d6dd8-19ec-4174-a67f-6e07c22251de",
   "metadata": {},
   "source": [
    "# Running a dummy model\n",
    "\n",
    "This notebook is a near replica of our [Colab notebook](https://colab.research.google.com/drive/1QeXglfCUEcscHB6L0Gch2qDKDDlfwLlq?usp=sharing#scrollTo=qYkGWADDxdlL) which demonstrates the same thing. \n",
    "\n",
    "This is the official repository for [EvalRS @ KDD 2023](https://reclist.io/kdd2023-cup/): _a Well-Rounded Evaluation of Recommender Systems_.\n",
    "\n",
    "During KDD 2023 we will host a pizza hackathon night, where participants will pursue innovative projects for the rounded evaluation of recommender systems. The aim of the hackathon is to evaluate recommender systems across a set of important dimensions (accuracy being _one_ of them) through a principled and re-usable sets of abstractions, as provided by [RecList](https://github.com/jacopotagliabue/reclist) 🚀.\n",
    "\n",
    "Organizers will provide in advance an open dataset and tools to help the teams, and award monetary prizes for the best projects. Everything will go back to the community as open source contributions!\n",
    "\n",
    "This is a basic notebook that should get you up to speed on how to write code and models for EvalRS2023. We suggest running this notebook using either venv or conda to manage your python dependencies. This notebook makes the following assumptions:\n",
    "\n",
    "- unix-like \n",
    "- write access to your `$HOME` dir\n",
    "- Jupyter kernel running correctly. See [this guide on Jupyter + virtual environments for setup](https://janakiev.com/blog/jupyter-virtual-envs/).\n",
    "\n",
    "\n",
    "The first cell is a setup cell that will clone the reclist repo localling and install it into your environment."
   ]
  },
  {
   "cell_type": "code",
   "execution_count": 2,
   "id": "b635c71b-ac2c-4d64-af6a-fba1ff6a2f24",
   "metadata": {
    "tags": []
   },
   "outputs": [],
   "source": [
    "%%capture\n",
    "!pip install -r ../requirements.txt"
   ]
  },
  {
   "cell_type": "markdown",
   "id": "a1ee3b0d-1310-4c2c-9118-baaf5547583a",
   "metadata": {},
   "source": [
    "The following cell ensures that we add the `evalRS-KDD-2023` repo to the working path so our kernel can load it correctly and loads the rest of our dependencies. "
   ]
  },
  {
   "cell_type": "code",
   "execution_count": 9,
   "id": "9beab2ca-c21d-4be3-a18c-ab246693c7d4",
   "metadata": {},
   "outputs": [],
   "source": [
    "import os\n",
    "import sys\n",
    "import pandas as pd\n",
    "import numpy as np\n",
    "sys.path.append(os.path.abspath('../evaluation'))\n",
    "\n",
    "from EvalRSRunner import ChallengeDataset\n",
    "from EvalRSReclist import EvalRSReclist\n",
    "from reclist.reclist import LOGGER, METADATA_STORE\n",
    "from gensim.models import KeyedVectors"
   ]
  },
  {
   "cell_type": "code",
   "execution_count": 4,
   "id": "ab09cf41-1929-4267-a798-dcbbb70b60a5",
   "metadata": {},
   "outputs": [
    {
     "name": "stdout",
     "output_type": "stream",
     "text": [
      "LFM dataset already downloaded. Skipping download.\n",
      "Loading dataset.\n",
      "Generating Train/Test Split.\n",
      "Generating dataset hashes.\n"
     ]
    }
   ],
   "source": [
    "# will automatically load it if it finds a cached copy locally.\n",
    "dataset = ChallengeDataset()"
   ]
  },
  {
   "cell_type": "markdown",
   "id": "6f31c34c-1357-4214-a311-7589e200f6cd",
   "metadata": {},
   "source": [
    "Our basic class wrapper that shows how to define `predict`."
   ]
  },
  {
   "cell_type": "code",
   "execution_count": 5,
   "id": "01f63a6c-9eb9-49cd-a77c-a7f52ff7fc95",
   "metadata": {
    "tags": []
   },
   "outputs": [],
   "source": [
    "class EvalRSSimpleModel(object):\n",
    "    \"\"\"\n",
    "    This is a dummy model that returns random predictions on the EvalRS dataset.\n",
    "    \"\"\"\n",
    "    def __init__(self, items: pd.DataFrame, top_k: int=10, **kwargs):\n",
    "        self.items = items\n",
    "        self.top_k = top_k\n",
    "        print(\"Received additional arguments: {}\".format(kwargs))\n",
    "\n",
    "    def predict(self, user_ids: pd.DataFrame) -> pd.DataFrame:\n",
    "        k = self.top_k\n",
    "        num_users = len(user_ids)\n",
    "        pred = self.items.sample(n=k*num_users, replace=True).index.values\n",
    "        pred = pred.reshape(num_users, k)\n",
    "        pred = np.concatenate((user_ids[['user_id']].values, pred), axis=1)\n",
    "        return pd.DataFrame(pred, columns=['user_id', *[str(i) for i in range(k)]]).set_index('user_id')"
   ]
  },
  {
   "cell_type": "code",
   "execution_count": 6,
   "id": "bd6b06f3-a73f-4c87-b44c-a43bd7eb51c2",
   "metadata": {
    "tags": []
   },
   "outputs": [
    {
     "name": "stdout",
     "output_type": "stream",
     "text": [
      "Received additional arguments: {}\n"
     ]
    }
   ],
   "source": [
    "# dummy model\n",
    "my_df_model = EvalRSSimpleModel(dataset.df_tracks, top_k=100)\n",
    "# get some predictions\n",
    "df_predictions = my_df_model.predict(dataset._get_test_set(fold=0)[['user_id']])"
   ]
  },
  {
   "cell_type": "code",
   "execution_count": 7,
   "id": "984f0998-0f16-4e0d-9b4b-dde8a2c6cf0c",
   "metadata": {},
   "outputs": [
    {
     "data": {
      "text/html": [
       "<div>\n",
       "<style scoped>\n",
       "    .dataframe tbody tr th:only-of-type {\n",
       "        vertical-align: middle;\n",
       "    }\n",
       "\n",
       "    .dataframe tbody tr th {\n",
       "        vertical-align: top;\n",
       "    }\n",
       "\n",
       "    .dataframe thead th {\n",
       "        text-align: right;\n",
       "    }\n",
       "</style>\n",
       "<table border=\"1\" class=\"dataframe\">\n",
       "  <thead>\n",
       "    <tr style=\"text-align: right;\">\n",
       "      <th></th>\n",
       "      <th>0</th>\n",
       "      <th>1</th>\n",
       "      <th>2</th>\n",
       "      <th>3</th>\n",
       "      <th>4</th>\n",
       "      <th>5</th>\n",
       "      <th>6</th>\n",
       "      <th>7</th>\n",
       "      <th>8</th>\n",
       "      <th>9</th>\n",
       "      <th>...</th>\n",
       "      <th>90</th>\n",
       "      <th>91</th>\n",
       "      <th>92</th>\n",
       "      <th>93</th>\n",
       "      <th>94</th>\n",
       "      <th>95</th>\n",
       "      <th>96</th>\n",
       "      <th>97</th>\n",
       "      <th>98</th>\n",
       "      <th>99</th>\n",
       "    </tr>\n",
       "    <tr>\n",
       "      <th>user_id</th>\n",
       "      <th></th>\n",
       "      <th></th>\n",
       "      <th></th>\n",
       "      <th></th>\n",
       "      <th></th>\n",
       "      <th></th>\n",
       "      <th></th>\n",
       "      <th></th>\n",
       "      <th></th>\n",
       "      <th></th>\n",
       "      <th></th>\n",
       "      <th></th>\n",
       "      <th></th>\n",
       "      <th></th>\n",
       "      <th></th>\n",
       "      <th></th>\n",
       "      <th></th>\n",
       "      <th></th>\n",
       "      <th></th>\n",
       "      <th></th>\n",
       "      <th></th>\n",
       "    </tr>\n",
       "  </thead>\n",
       "  <tbody>\n",
       "    <tr>\n",
       "      <th>384</th>\n",
       "      <td>198000</td>\n",
       "      <td>754119</td>\n",
       "      <td>10598212</td>\n",
       "      <td>355279</td>\n",
       "      <td>1866283</td>\n",
       "      <td>78076</td>\n",
       "      <td>387469</td>\n",
       "      <td>1354583</td>\n",
       "      <td>2862239</td>\n",
       "      <td>12644544</td>\n",
       "      <td>...</td>\n",
       "      <td>1719490</td>\n",
       "      <td>943559</td>\n",
       "      <td>29466059</td>\n",
       "      <td>4967405</td>\n",
       "      <td>49229</td>\n",
       "      <td>357539</td>\n",
       "      <td>1326928</td>\n",
       "      <td>1326335</td>\n",
       "      <td>1687202</td>\n",
       "      <td>1109201</td>\n",
       "    </tr>\n",
       "    <tr>\n",
       "      <th>10879</th>\n",
       "      <td>29902653</td>\n",
       "      <td>23874263</td>\n",
       "      <td>2768182</td>\n",
       "      <td>965782</td>\n",
       "      <td>749644</td>\n",
       "      <td>1137</td>\n",
       "      <td>636925</td>\n",
       "      <td>274213</td>\n",
       "      <td>22288</td>\n",
       "      <td>3110301</td>\n",
       "      <td>...</td>\n",
       "      <td>849154</td>\n",
       "      <td>210093</td>\n",
       "      <td>906704</td>\n",
       "      <td>1941810</td>\n",
       "      <td>700639</td>\n",
       "      <td>1893449</td>\n",
       "      <td>5093612</td>\n",
       "      <td>2003772</td>\n",
       "      <td>1338348</td>\n",
       "      <td>308840</td>\n",
       "    </tr>\n",
       "    <tr>\n",
       "      <th>12619</th>\n",
       "      <td>2252537</td>\n",
       "      <td>68689</td>\n",
       "      <td>29447096</td>\n",
       "      <td>2260030</td>\n",
       "      <td>1097413</td>\n",
       "      <td>517331</td>\n",
       "      <td>1570855</td>\n",
       "      <td>2218035</td>\n",
       "      <td>1560396</td>\n",
       "      <td>1732711</td>\n",
       "      <td>...</td>\n",
       "      <td>850263</td>\n",
       "      <td>5724297</td>\n",
       "      <td>105302</td>\n",
       "      <td>361269</td>\n",
       "      <td>29480927</td>\n",
       "      <td>1280898</td>\n",
       "      <td>16165567</td>\n",
       "      <td>2075231</td>\n",
       "      <td>869217</td>\n",
       "      <td>377631</td>\n",
       "    </tr>\n",
       "    <tr>\n",
       "      <th>14308</th>\n",
       "      <td>1537446</td>\n",
       "      <td>812283</td>\n",
       "      <td>247120</td>\n",
       "      <td>2505661</td>\n",
       "      <td>79247</td>\n",
       "      <td>638316</td>\n",
       "      <td>5953035</td>\n",
       "      <td>3013151</td>\n",
       "      <td>108943</td>\n",
       "      <td>3952322</td>\n",
       "      <td>...</td>\n",
       "      <td>983227</td>\n",
       "      <td>3206738</td>\n",
       "      <td>116182</td>\n",
       "      <td>89244</td>\n",
       "      <td>6153029</td>\n",
       "      <td>17971</td>\n",
       "      <td>693232</td>\n",
       "      <td>243043</td>\n",
       "      <td>94025</td>\n",
       "      <td>2519193</td>\n",
       "    </tr>\n",
       "    <tr>\n",
       "      <th>15067</th>\n",
       "      <td>556202</td>\n",
       "      <td>2377963</td>\n",
       "      <td>127245</td>\n",
       "      <td>2789503</td>\n",
       "      <td>143499</td>\n",
       "      <td>1087067</td>\n",
       "      <td>608076</td>\n",
       "      <td>2235970</td>\n",
       "      <td>16419726</td>\n",
       "      <td>667803</td>\n",
       "      <td>...</td>\n",
       "      <td>242814</td>\n",
       "      <td>1166618</td>\n",
       "      <td>7227918</td>\n",
       "      <td>196793</td>\n",
       "      <td>3994780</td>\n",
       "      <td>1053227</td>\n",
       "      <td>852828</td>\n",
       "      <td>532353</td>\n",
       "      <td>96884</td>\n",
       "      <td>16932649</td>\n",
       "    </tr>\n",
       "    <tr>\n",
       "      <th>...</th>\n",
       "      <td>...</td>\n",
       "      <td>...</td>\n",
       "      <td>...</td>\n",
       "      <td>...</td>\n",
       "      <td>...</td>\n",
       "      <td>...</td>\n",
       "      <td>...</td>\n",
       "      <td>...</td>\n",
       "      <td>...</td>\n",
       "      <td>...</td>\n",
       "      <td>...</td>\n",
       "      <td>...</td>\n",
       "      <td>...</td>\n",
       "      <td>...</td>\n",
       "      <td>...</td>\n",
       "      <td>...</td>\n",
       "      <td>...</td>\n",
       "      <td>...</td>\n",
       "      <td>...</td>\n",
       "      <td>...</td>\n",
       "      <td>...</td>\n",
       "    </tr>\n",
       "    <tr>\n",
       "      <th>50083088</th>\n",
       "      <td>4425739</td>\n",
       "      <td>1088888</td>\n",
       "      <td>2392808</td>\n",
       "      <td>464351</td>\n",
       "      <td>713791</td>\n",
       "      <td>1562437</td>\n",
       "      <td>3386378</td>\n",
       "      <td>1497351</td>\n",
       "      <td>285197</td>\n",
       "      <td>10878364</td>\n",
       "      <td>...</td>\n",
       "      <td>95157</td>\n",
       "      <td>88622</td>\n",
       "      <td>207206</td>\n",
       "      <td>813290</td>\n",
       "      <td>967621</td>\n",
       "      <td>1847086</td>\n",
       "      <td>284937</td>\n",
       "      <td>304503</td>\n",
       "      <td>1465106</td>\n",
       "      <td>208220</td>\n",
       "    </tr>\n",
       "    <tr>\n",
       "      <th>50085736</th>\n",
       "      <td>2822539</td>\n",
       "      <td>553483</td>\n",
       "      <td>331804</td>\n",
       "      <td>48123</td>\n",
       "      <td>16590724</td>\n",
       "      <td>860736</td>\n",
       "      <td>3259944</td>\n",
       "      <td>3689627</td>\n",
       "      <td>978907</td>\n",
       "      <td>119575</td>\n",
       "      <td>...</td>\n",
       "      <td>1916808</td>\n",
       "      <td>1496924</td>\n",
       "      <td>1359517</td>\n",
       "      <td>4599329</td>\n",
       "      <td>1785737</td>\n",
       "      <td>358854</td>\n",
       "      <td>494452</td>\n",
       "      <td>3486730</td>\n",
       "      <td>423873</td>\n",
       "      <td>901307</td>\n",
       "    </tr>\n",
       "    <tr>\n",
       "      <th>50086315</th>\n",
       "      <td>3039814</td>\n",
       "      <td>1038228</td>\n",
       "      <td>995048</td>\n",
       "      <td>674686</td>\n",
       "      <td>1567321</td>\n",
       "      <td>201440</td>\n",
       "      <td>29462384</td>\n",
       "      <td>15969</td>\n",
       "      <td>2735244</td>\n",
       "      <td>358147</td>\n",
       "      <td>...</td>\n",
       "      <td>1767371</td>\n",
       "      <td>521884</td>\n",
       "      <td>1271383</td>\n",
       "      <td>589257</td>\n",
       "      <td>6705255</td>\n",
       "      <td>737399</td>\n",
       "      <td>1131133</td>\n",
       "      <td>1420804</td>\n",
       "      <td>502063</td>\n",
       "      <td>3054652</td>\n",
       "    </tr>\n",
       "    <tr>\n",
       "      <th>50900118</th>\n",
       "      <td>2392008</td>\n",
       "      <td>1817928</td>\n",
       "      <td>1294727</td>\n",
       "      <td>742689</td>\n",
       "      <td>1583027</td>\n",
       "      <td>1151012</td>\n",
       "      <td>374261</td>\n",
       "      <td>1050812</td>\n",
       "      <td>621818</td>\n",
       "      <td>672192</td>\n",
       "      <td>...</td>\n",
       "      <td>7120145</td>\n",
       "      <td>204881</td>\n",
       "      <td>1400931</td>\n",
       "      <td>630762</td>\n",
       "      <td>3292798</td>\n",
       "      <td>804026</td>\n",
       "      <td>12845</td>\n",
       "      <td>6084875</td>\n",
       "      <td>2563294</td>\n",
       "      <td>2056265</td>\n",
       "    </tr>\n",
       "    <tr>\n",
       "      <th>50967444</th>\n",
       "      <td>804338</td>\n",
       "      <td>124979</td>\n",
       "      <td>2392899</td>\n",
       "      <td>2337935</td>\n",
       "      <td>303295</td>\n",
       "      <td>29499432</td>\n",
       "      <td>1246242</td>\n",
       "      <td>2946832</td>\n",
       "      <td>5106488</td>\n",
       "      <td>1088120</td>\n",
       "      <td>...</td>\n",
       "      <td>1564738</td>\n",
       "      <td>842733</td>\n",
       "      <td>1744912</td>\n",
       "      <td>1306313</td>\n",
       "      <td>5652243</td>\n",
       "      <td>71485</td>\n",
       "      <td>1003546</td>\n",
       "      <td>2405466</td>\n",
       "      <td>3704703</td>\n",
       "      <td>5694834</td>\n",
       "    </tr>\n",
       "  </tbody>\n",
       "</table>\n",
       "<p>29722 rows × 100 columns</p>\n",
       "</div>"
      ],
      "text/plain": [
       "                 0         1         2        3         4         5         6  \\\n",
       "user_id                                                                         \n",
       "384         198000    754119  10598212   355279   1866283     78076    387469   \n",
       "10879     29902653  23874263   2768182   965782    749644      1137    636925   \n",
       "12619      2252537     68689  29447096  2260030   1097413    517331   1570855   \n",
       "14308      1537446    812283    247120  2505661     79247    638316   5953035   \n",
       "15067       556202   2377963    127245  2789503    143499   1087067    608076   \n",
       "...            ...       ...       ...      ...       ...       ...       ...   \n",
       "50083088   4425739   1088888   2392808   464351    713791   1562437   3386378   \n",
       "50085736   2822539    553483    331804    48123  16590724    860736   3259944   \n",
       "50086315   3039814   1038228    995048   674686   1567321    201440  29462384   \n",
       "50900118   2392008   1817928   1294727   742689   1583027   1151012    374261   \n",
       "50967444    804338    124979   2392899  2337935    303295  29499432   1246242   \n",
       "\n",
       "                7         8         9  ...       90       91        92  \\\n",
       "user_id                                ...                               \n",
       "384       1354583   2862239  12644544  ...  1719490   943559  29466059   \n",
       "10879      274213     22288   3110301  ...   849154   210093    906704   \n",
       "12619     2218035   1560396   1732711  ...   850263  5724297    105302   \n",
       "14308     3013151    108943   3952322  ...   983227  3206738    116182   \n",
       "15067     2235970  16419726    667803  ...   242814  1166618   7227918   \n",
       "...           ...       ...       ...  ...      ...      ...       ...   \n",
       "50083088  1497351    285197  10878364  ...    95157    88622    207206   \n",
       "50085736  3689627    978907    119575  ...  1916808  1496924   1359517   \n",
       "50086315    15969   2735244    358147  ...  1767371   521884   1271383   \n",
       "50900118  1050812    621818    672192  ...  7120145   204881   1400931   \n",
       "50967444  2946832   5106488   1088120  ...  1564738   842733   1744912   \n",
       "\n",
       "               93        94       95        96       97       98        99  \n",
       "user_id                                                                     \n",
       "384       4967405     49229   357539   1326928  1326335  1687202   1109201  \n",
       "10879     1941810    700639  1893449   5093612  2003772  1338348    308840  \n",
       "12619      361269  29480927  1280898  16165567  2075231   869217    377631  \n",
       "14308       89244   6153029    17971    693232   243043    94025   2519193  \n",
       "15067      196793   3994780  1053227    852828   532353    96884  16932649  \n",
       "...           ...       ...      ...       ...      ...      ...       ...  \n",
       "50083088   813290    967621  1847086    284937   304503  1465106    208220  \n",
       "50085736  4599329   1785737   358854    494452  3486730   423873    901307  \n",
       "50086315   589257   6705255   737399   1131133  1420804   502063   3054652  \n",
       "50900118   630762   3292798   804026     12845  6084875  2563294   2056265  \n",
       "50967444  1306313   5652243    71485   1003546  2405466  3704703   5694834  \n",
       "\n",
       "[29722 rows x 100 columns]"
      ]
     },
     "execution_count": 7,
     "metadata": {},
     "output_type": "execute_result"
    }
   ],
   "source": [
    "df_predictions"
   ]
  },
  {
   "cell_type": "code",
   "execution_count": 10,
   "id": "84b72559-2297-4c5e-8716-7bef2cd6a299",
   "metadata": {
    "tags": []
   },
   "outputs": [
    {
     "data": {
      "application/vnd.jupyter.widget-view+json": {
       "model_id": "41b9f90e79ec4d94ab7e0d656a2ad7cf",
       "version_major": 2,
       "version_minor": 0
      },
      "text/plain": [
       "Output()"
      ]
     },
     "metadata": {},
     "output_type": "display_data"
    },
    {
     "data": {
      "text/html": [
       "<pre style=\"white-space:pre;overflow-x:auto;line-height:normal;font-family:Menlo,'DejaVu Sans Mono',consolas,'Courier New',monospace\"><span style=\"color: #800000; text-decoration-color: #800000; font-style: italic\">stats</span>:<span style=\"font-weight: bold\">{</span><span style=\"color: #008000; text-decoration-color: #008000\">'num_users'</span>: <span style=\"color: #008080; text-decoration-color: #008080; font-weight: bold\">29722</span>, <span style=\"color: #008000; text-decoration-color: #008000\">'max_items'</span>: <span style=\"color: #008080; text-decoration-color: #008080; font-weight: bold\">1</span>, <span style=\"color: #008000; text-decoration-color: #008000\">'min_items'</span>: <span style=\"color: #008080; text-decoration-color: #008080; font-weight: bold\">1</span><span style=\"font-weight: bold\">}</span>\n",
       "</pre>\n"
      ],
      "text/plain": [
       "\u001b[3;31mstats\u001b[0m:\u001b[1m{\u001b[0m\u001b[32m'num_users'\u001b[0m: \u001b[1;36m29722\u001b[0m, \u001b[32m'max_items'\u001b[0m: \u001b[1;36m1\u001b[0m, \u001b[32m'min_items'\u001b[0m: \u001b[1;36m1\u001b[0m\u001b[1m}\u001b[0m\n"
      ]
     },
     "metadata": {},
     "output_type": "display_data"
    },
    {
     "data": {
      "text/html": [
       "<pre style=\"white-space:pre;overflow-x:auto;line-height:normal;font-family:Menlo,'DejaVu Sans Mono',consolas,'Courier New',monospace\"><span style=\"color: #800000; text-decoration-color: #800000; font-style: italic\">HIT_RAT</span><span style=\"color: #800000; text-decoration-color: #800000; font-weight: bold; font-style: italic\">E</span><span style=\"color: #00ff00; text-decoration-color: #00ff00; font-weight: bold\">:3</span>.<span style=\"color: #008080; text-decoration-color: #008080; font-weight: bold\">364511136531862e-05</span>\n",
       "</pre>\n"
      ],
      "text/plain": [
       "\u001b[3;31mHIT_RAT\u001b[0m\u001b[1;3;31mE\u001b[0m\u001b[1;92m:3\u001b[0m.\u001b[1;36m364511136531862e-05\u001b[0m\n"
      ]
     },
     "metadata": {},
     "output_type": "display_data"
    },
    {
     "data": {
      "text/html": [
       "<pre style=\"white-space:pre;overflow-x:auto;line-height:normal;font-family:Menlo,'DejaVu Sans Mono',consolas,'Courier New',monospace\"><span style=\"color: #800000; text-decoration-color: #800000; font-style: italic\">MRR</span>:<span style=\"color: #008080; text-decoration-color: #008080; font-weight: bold\">4.258874856369445e-07</span>\n",
       "</pre>\n"
      ],
      "text/plain": [
       "\u001b[3;31mMRR\u001b[0m:\u001b[1;36m4.258874856369445e-07\u001b[0m\n"
      ]
     },
     "metadata": {},
     "output_type": "display_data"
    },
    {
     "data": {
      "text/html": [
       "<pre style=\"white-space:pre;overflow-x:auto;line-height:normal;font-family:Menlo,'DejaVu Sans Mono',consolas,'Courier New',monospace\"><span style=\"color: #800000; text-decoration-color: #800000; font-style: italic\">MRED_USER_ACTIVITY</span>:<span style=\"font-weight: bold\">{</span><span style=\"color: #008000; text-decoration-color: #008000\">'mred'</span>: <span style=\"color: #008080; text-decoration-color: #008080; font-weight: bold\">-2.549544725512683e-05</span>, <span style=\"color: #008000; text-decoration-color: #008000\">'mr'</span>: <span style=\"color: #008080; text-decoration-color: #008080; font-weight: bold\">0.9999663548886347</span>, <span style=\"color: #008080; text-decoration-color: #008080; font-weight: bold\">1</span>: <span style=\"color: #008080; text-decoration-color: #008080; font-weight: bold\">1.0</span>, <span style=\"color: #008080; text-decoration-color: #008080; font-weight: bold\">100</span>: <span style=\"color: #008080; text-decoration-color: #008080; font-weight: bold\">0.9999571587695999</span>, \n",
       "<span style=\"color: #008080; text-decoration-color: #008080; font-weight: bold\">1000</span>: <span style=\"color: #008080; text-decoration-color: #008080; font-weight: bold\">1.0</span><span style=\"font-weight: bold\">}</span>\n",
       "</pre>\n"
      ],
      "text/plain": [
       "\u001b[3;31mMRED_USER_ACTIVITY\u001b[0m:\u001b[1m{\u001b[0m\u001b[32m'mred'\u001b[0m: \u001b[1;36m-2.549544725512683e-05\u001b[0m, \u001b[32m'mr'\u001b[0m: \u001b[1;36m0.9999663548886347\u001b[0m, \u001b[1;36m1\u001b[0m: \u001b[1;36m1.0\u001b[0m, \u001b[1;36m100\u001b[0m: \u001b[1;36m0.9999571587695999\u001b[0m, \n",
       "\u001b[1;36m1000\u001b[0m: \u001b[1;36m1.0\u001b[0m\u001b[1m}\u001b[0m\n"
      ]
     },
     "metadata": {},
     "output_type": "display_data"
    },
    {
     "data": {
      "text/html": [
       "<pre style=\"white-space:pre;overflow-x:auto;line-height:normal;font-family:Menlo,'DejaVu Sans Mono',consolas,'Courier New',monospace\"><span style=\"color: #800000; text-decoration-color: #800000; font-style: italic\">MRED_TRACK_POPULARITY</span>:<span style=\"font-weight: bold\">{</span><span style=\"color: #008000; text-decoration-color: #008000\">'mred'</span>: <span style=\"color: #008080; text-decoration-color: #008080; font-weight: bold\">-3.683536387988351e-05</span>, <span style=\"color: #008000; text-decoration-color: #008000\">'mr'</span>: <span style=\"color: #008080; text-decoration-color: #008080; font-weight: bold\">0.9999663548886347</span>, <span style=\"color: #008080; text-decoration-color: #008080; font-weight: bold\">1</span>: <span style=\"color: #008080; text-decoration-color: #008080; font-weight: bold\">1.0</span>, <span style=\"color: #008080; text-decoration-color: #008080; font-weight: bold\">10</span>: <span style=\"color: #008080; text-decoration-color: #008080; font-weight: bold\">1.0</span>, <span style=\"color: #008080; text-decoration-color: #008080; font-weight: bold\">100</span>: \n",
       "<span style=\"color: #008080; text-decoration-color: #008080; font-weight: bold\">0.999919948767211</span>, <span style=\"color: #008080; text-decoration-color: #008080; font-weight: bold\">1000</span>: <span style=\"color: #008080; text-decoration-color: #008080; font-weight: bold\">1.0</span><span style=\"font-weight: bold\">}</span>\n",
       "</pre>\n"
      ],
      "text/plain": [
       "\u001b[3;31mMRED_TRACK_POPULARITY\u001b[0m:\u001b[1m{\u001b[0m\u001b[32m'mred'\u001b[0m: \u001b[1;36m-3.683536387988351e-05\u001b[0m, \u001b[32m'mr'\u001b[0m: \u001b[1;36m0.9999663548886347\u001b[0m, \u001b[1;36m1\u001b[0m: \u001b[1;36m1.0\u001b[0m, \u001b[1;36m10\u001b[0m: \u001b[1;36m1.0\u001b[0m, \u001b[1;36m100\u001b[0m: \n",
       "\u001b[1;36m0.999919948767211\u001b[0m, \u001b[1;36m1000\u001b[0m: \u001b[1;36m1.0\u001b[0m\u001b[1m}\u001b[0m\n"
      ]
     },
     "metadata": {},
     "output_type": "display_data"
    },
    {
     "data": {
      "text/html": [
       "<pre style=\"white-space:pre;overflow-x:auto;line-height:normal;font-family:Menlo,'DejaVu Sans Mono',consolas,'Courier New',monospace\"><span style=\"color: #800000; text-decoration-color: #800000; font-style: italic\">MRED_ARTIST_POPULARITY</span>:<span style=\"font-weight: bold\">{</span><span style=\"color: #008000; text-decoration-color: #008000\">'mred'</span>: <span style=\"color: #008080; text-decoration-color: #008080; font-weight: bold\">-4.1421591400442326e-05</span>, <span style=\"color: #008000; text-decoration-color: #008000\">'mr'</span>: <span style=\"color: #008080; text-decoration-color: #008080; font-weight: bold\">0.9999663548886347</span>, <span style=\"color: #008080; text-decoration-color: #008080; font-weight: bold\">1</span>: <span style=\"color: #008080; text-decoration-color: #008080; font-weight: bold\">1.0</span>, <span style=\"color: #008080; text-decoration-color: #008080; font-weight: bold\">100</span>: <span style=\"color: #008080; text-decoration-color: #008080; font-weight: bold\">1.0</span>, <span style=\"color: #008080; text-decoration-color: #008080; font-weight: bold\">1000</span>: <span style=\"color: #008080; text-decoration-color: #008080; font-weight: bold\">1.0</span>, \n",
       "<span style=\"color: #008080; text-decoration-color: #008080; font-weight: bold\">10000</span>: <span style=\"color: #008080; text-decoration-color: #008080; font-weight: bold\">0.9999016038571288</span><span style=\"font-weight: bold\">}</span>\n",
       "</pre>\n"
      ],
      "text/plain": [
       "\u001b[3;31mMRED_ARTIST_POPULARITY\u001b[0m:\u001b[1m{\u001b[0m\u001b[32m'mred'\u001b[0m: \u001b[1;36m-4.1421591400442326e-05\u001b[0m, \u001b[32m'mr'\u001b[0m: \u001b[1;36m0.9999663548886347\u001b[0m, \u001b[1;36m1\u001b[0m: \u001b[1;36m1.0\u001b[0m, \u001b[1;36m100\u001b[0m: \u001b[1;36m1.0\u001b[0m, \u001b[1;36m1000\u001b[0m: \u001b[1;36m1.0\u001b[0m, \n",
       "\u001b[1;36m10000\u001b[0m: \u001b[1;36m0.9999016038571288\u001b[0m\u001b[1m}\u001b[0m\n"
      ]
     },
     "metadata": {},
     "output_type": "display_data"
    },
    {
     "data": {
      "text/html": [
       "<pre style=\"white-space:pre;overflow-x:auto;line-height:normal;font-family:Menlo,'DejaVu Sans Mono',consolas,'Courier New',monospace\"><span style=\"color: #800000; text-decoration-color: #800000; font-style: italic\">MRED_GENDER</span>:<span style=\"font-weight: bold\">{</span><span style=\"color: #008000; text-decoration-color: #008000\">'mred'</span>: <span style=\"color: #008080; text-decoration-color: #008080; font-weight: bold\">-9.710355382708258e-05</span>, <span style=\"color: #008000; text-decoration-color: #008000\">'mr'</span>: <span style=\"color: #008080; text-decoration-color: #008080; font-weight: bold\">0.9999663548886347</span>, <span style=\"color: #008000; text-decoration-color: #008000\">'f'</span>: <span style=\"color: #008080; text-decoration-color: #008080; font-weight: bold\">0.999742334449884</span>, <span style=\"color: #008000; text-decoration-color: #008000\">'m'</span>: <span style=\"color: #008080; text-decoration-color: #008080; font-weight: bold\">1.0</span>, <span style=\"color: #008000; text-decoration-color: #008000\">'n'</span>: <span style=\"color: #008080; text-decoration-color: #008080; font-weight: bold\">1.0</span><span style=\"font-weight: bold\">}</span>\n",
       "</pre>\n"
      ],
      "text/plain": [
       "\u001b[3;31mMRED_GENDER\u001b[0m:\u001b[1m{\u001b[0m\u001b[32m'mred'\u001b[0m: \u001b[1;36m-9.710355382708258e-05\u001b[0m, \u001b[32m'mr'\u001b[0m: \u001b[1;36m0.9999663548886347\u001b[0m, \u001b[32m'f'\u001b[0m: \u001b[1;36m0.999742334449884\u001b[0m, \u001b[32m'm'\u001b[0m: \u001b[1;36m1.0\u001b[0m, \u001b[32m'n'\u001b[0m: \u001b[1;36m1.0\u001b[0m\u001b[1m}\u001b[0m\n"
      ]
     },
     "metadata": {},
     "output_type": "display_data"
    },
    {
     "data": {
      "text/html": [
       "<pre style=\"white-space:pre;overflow-x:auto;line-height:normal;font-family:Menlo,'DejaVu Sans Mono',consolas,'Courier New',monospace\"><span style=\"color: #800000; text-decoration-color: #800000; font-style: italic\">BEING_LESS_WRONG</span>:<span style=\"color: #008080; text-decoration-color: #008080; font-weight: bold\">0.002226819982752204</span>\n",
       "</pre>\n"
      ],
      "text/plain": [
       "\u001b[3;31mBEING_LESS_WRONG\u001b[0m:\u001b[1;36m0.002226819982752204\u001b[0m\n"
      ]
     },
     "metadata": {},
     "output_type": "display_data"
    },
    {
     "data": {
      "text/html": [
       "<pre style=\"white-space:pre;overflow-x:auto;line-height:normal;font-family:Menlo,'DejaVu Sans Mono',consolas,'Courier New',monospace\"></pre>\n"
      ],
      "text/plain": []
     },
     "metadata": {},
     "output_type": "display_data"
    },
    {
     "data": {
      "text/html": [
       "<pre style=\"white-space:pre;overflow-x:auto;line-height:normal;font-family:Menlo,'DejaVu Sans Mono',consolas,'Courier New',monospace\">\n",
       "</pre>\n"
      ],
      "text/plain": [
       "\n"
      ]
     },
     "metadata": {},
     "output_type": "display_data"
    },
    {
     "data": {
      "text/html": [
       "<pre style=\"white-space:pre;overflow-x:auto;line-height:normal;font-family:Menlo,'DejaVu Sans Mono',consolas,'Courier New',monospace\"><span style=\"font-style: italic\">                                 EvalRSReclist                                  </span>\n",
       "┏━━━━━━━━━━━━━━━━━━━━━━━━┳━━━━━━━━━━━━━━┳━━━━━━━━━━━━━━━━━━━━━━━━━━━━━━━━━━━━━━┓\n",
       "┃<span style=\"font-weight: bold\">                   Type </span>┃<span style=\"font-weight: bold\"> Description  </span>┃<span style=\"font-weight: bold\">                               Result </span>┃\n",
       "┡━━━━━━━━━━━━━━━━━━━━━━━━╇━━━━━━━━━━━━━━╇━━━━━━━━━━━━━━━━━━━━━━━━━━━━━━━━━━━━━━┩\n",
       "│<span style=\"color: #008080; text-decoration-color: #008080\">                  stats </span>│<span style=\"color: #800080; text-decoration-color: #800080\">              </span>│<span style=\"color: #008000; text-decoration-color: #008000\">                                    { </span>│\n",
       "│<span style=\"color: #008080; text-decoration-color: #008080\">                        </span>│<span style=\"color: #800080; text-decoration-color: #800080\">              </span>│<span style=\"color: #008000; text-decoration-color: #008000\">                  \"num_users\": 29722, </span>│\n",
       "│<span style=\"color: #008080; text-decoration-color: #008080\">                        </span>│<span style=\"color: #800080; text-decoration-color: #800080\">              </span>│<span style=\"color: #008000; text-decoration-color: #008000\">                      \"max_items\": 1, </span>│\n",
       "│<span style=\"color: #008080; text-decoration-color: #008080\">                        </span>│<span style=\"color: #800080; text-decoration-color: #800080\">              </span>│<span style=\"color: #008000; text-decoration-color: #008000\">                       \"min_items\": 1 </span>│\n",
       "│<span style=\"color: #008080; text-decoration-color: #008080\">                        </span>│<span style=\"color: #800080; text-decoration-color: #800080\">              </span>│<span style=\"color: #008000; text-decoration-color: #008000\">                                    } </span>│\n",
       "│<span style=\"color: #008080; text-decoration-color: #008080\">               HIT_RATE </span>│<span style=\"color: #800080; text-decoration-color: #800080\">              </span>│<span style=\"color: #008000; text-decoration-color: #008000\">                                  0.0 </span>│\n",
       "│<span style=\"color: #008080; text-decoration-color: #008080\">                    MRR </span>│<span style=\"color: #800080; text-decoration-color: #800080\">              </span>│<span style=\"color: #008000; text-decoration-color: #008000\">                                  0.0 </span>│\n",
       "│<span style=\"color: #008080; text-decoration-color: #008080\">           MRED_COUNTRY </span>│<span style=\"color: #800080; text-decoration-color: #800080\">              </span>│<span style=\"color: #008000; text-decoration-color: #008000\">                                    { </span>│\n",
       "│<span style=\"color: #008080; text-decoration-color: #008080\">                        </span>│<span style=\"color: #800080; text-decoration-color: #800080\">              </span>│<span style=\"color: #008000; text-decoration-color: #008000\">      \"mred\": -6.021999365231544e-05, </span>│\n",
       "│<span style=\"color: #008080; text-decoration-color: #008080\">                        </span>│<span style=\"color: #800080; text-decoration-color: #800080\">              </span>│<span style=\"color: #008000; text-decoration-color: #008000\">             \"mr\": 0.999961993082741, </span>│\n",
       "│<span style=\"color: #008080; text-decoration-color: #008080\">                        </span>│<span style=\"color: #800080; text-decoration-color: #800080\">              </span>│<span style=\"color: #008000; text-decoration-color: #008000\">                           \"BR\": 1.0, </span>│\n",
       "│<span style=\"color: #008080; text-decoration-color: #008080\">                        </span>│<span style=\"color: #800080; text-decoration-color: #800080\">              </span>│<span style=\"color: #008000; text-decoration-color: #008000\">                           \"CA\": 1.0, </span>│\n",
       "│<span style=\"color: #008080; text-decoration-color: #008080\">                        </span>│<span style=\"color: #800080; text-decoration-color: #800080\">              </span>│<span style=\"color: #008000; text-decoration-color: #008000\">                           \"DE\": 1.0, </span>│\n",
       "│<span style=\"color: #008080; text-decoration-color: #008080\">                        </span>│<span style=\"color: #800080; text-decoration-color: #800080\">              </span>│<span style=\"color: #008000; text-decoration-color: #008000\">                           \"ES\": 1.0, </span>│\n",
       "│<span style=\"color: #008080; text-decoration-color: #008080\">                        </span>│<span style=\"color: #800080; text-decoration-color: #800080\">              </span>│<span style=\"color: #008000; text-decoration-color: #008000\">                           \"FI\": 1.0, </span>│\n",
       "│<span style=\"color: #008080; text-decoration-color: #008080\">                        </span>│<span style=\"color: #800080; text-decoration-color: #800080\">              </span>│<span style=\"color: #008000; text-decoration-color: #008000\">                           \"FR\": 1.0, </span>│\n",
       "│<span style=\"color: #008080; text-decoration-color: #008080\">                        </span>│<span style=\"color: #800080; text-decoration-color: #800080\">              </span>│<span style=\"color: #008000; text-decoration-color: #008000\">                           \"NL\": 1.0, </span>│\n",
       "│<span style=\"color: #008080; text-decoration-color: #008080\">                        </span>│<span style=\"color: #800080; text-decoration-color: #800080\">              </span>│<span style=\"color: #008000; text-decoration-color: #008000\">                          \"NaN\": 1.0, </span>│\n",
       "│<span style=\"color: #008080; text-decoration-color: #008080\">                        </span>│<span style=\"color: #800080; text-decoration-color: #800080\">              </span>│<span style=\"color: #008000; text-decoration-color: #008000\">                           \"PL\": 1.0, </span>│\n",
       "│<span style=\"color: #008080; text-decoration-color: #008080\">                        </span>│<span style=\"color: #800080; text-decoration-color: #800080\">              </span>│<span style=\"color: #008000; text-decoration-color: #008000\">                           \"RU\": 1.0, </span>│\n",
       "│<span style=\"color: #008080; text-decoration-color: #008080\">                        </span>│<span style=\"color: #800080; text-decoration-color: #800080\">              </span>│<span style=\"color: #008000; text-decoration-color: #008000\">                           \"SE\": 1.0, </span>│\n",
       "│<span style=\"color: #008080; text-decoration-color: #008080\">                        </span>│<span style=\"color: #800080; text-decoration-color: #800080\">              </span>│<span style=\"color: #008000; text-decoration-color: #008000\">                           \"UA\": 1.0, </span>│\n",
       "│<span style=\"color: #008080; text-decoration-color: #008080\">                        </span>│<span style=\"color: #800080; text-decoration-color: #800080\">              </span>│<span style=\"color: #008000; text-decoration-color: #008000\">                           \"UK\": 1.0, </span>│\n",
       "│<span style=\"color: #008080; text-decoration-color: #008080\">                        </span>│<span style=\"color: #800080; text-decoration-color: #800080\">              </span>│<span style=\"color: #008000; text-decoration-color: #008000\">             \"US\": 0.9996130030959752 </span>│\n",
       "│<span style=\"color: #008080; text-decoration-color: #008080\">                        </span>│<span style=\"color: #800080; text-decoration-color: #800080\">              </span>│<span style=\"color: #008000; text-decoration-color: #008000\">                                    } </span>│\n",
       "│<span style=\"color: #008080; text-decoration-color: #008080\">     MRED_USER_ACTIVITY </span>│<span style=\"color: #800080; text-decoration-color: #800080\">              </span>│<span style=\"color: #008000; text-decoration-color: #008000\">                                    { </span>│\n",
       "│<span style=\"color: #008080; text-decoration-color: #008080\">                        </span>│<span style=\"color: #800080; text-decoration-color: #800080\">              </span>│<span style=\"color: #008000; text-decoration-color: #008000\">      \"mred\": -2.549544725512683e-05, </span>│\n",
       "│<span style=\"color: #008080; text-decoration-color: #008080\">                        </span>│<span style=\"color: #800080; text-decoration-color: #800080\">              </span>│<span style=\"color: #008000; text-decoration-color: #008000\">            \"mr\": 0.9999663548886347, </span>│\n",
       "│<span style=\"color: #008080; text-decoration-color: #008080\">                        </span>│<span style=\"color: #800080; text-decoration-color: #800080\">              </span>│<span style=\"color: #008000; text-decoration-color: #008000\">                            \"1\": 1.0, </span>│\n",
       "│<span style=\"color: #008080; text-decoration-color: #008080\">                        </span>│<span style=\"color: #800080; text-decoration-color: #800080\">              </span>│<span style=\"color: #008000; text-decoration-color: #008000\">           \"100\": 0.9999571587695999, </span>│\n",
       "│<span style=\"color: #008080; text-decoration-color: #008080\">                        </span>│<span style=\"color: #800080; text-decoration-color: #800080\">              </span>│<span style=\"color: #008000; text-decoration-color: #008000\">                          \"1000\": 1.0 </span>│\n",
       "│<span style=\"color: #008080; text-decoration-color: #008080\">                        </span>│<span style=\"color: #800080; text-decoration-color: #800080\">              </span>│<span style=\"color: #008000; text-decoration-color: #008000\">                                    } </span>│\n",
       "│<span style=\"color: #008080; text-decoration-color: #008080\">  MRED_TRACK_POPULARITY </span>│<span style=\"color: #800080; text-decoration-color: #800080\">              </span>│<span style=\"color: #008000; text-decoration-color: #008000\">                                    { </span>│\n",
       "│<span style=\"color: #008080; text-decoration-color: #008080\">                        </span>│<span style=\"color: #800080; text-decoration-color: #800080\">              </span>│<span style=\"color: #008000; text-decoration-color: #008000\">      \"mred\": -3.683536387988351e-05, </span>│\n",
       "│<span style=\"color: #008080; text-decoration-color: #008080\">                        </span>│<span style=\"color: #800080; text-decoration-color: #800080\">              </span>│<span style=\"color: #008000; text-decoration-color: #008000\">            \"mr\": 0.9999663548886347, </span>│\n",
       "│<span style=\"color: #008080; text-decoration-color: #008080\">                        </span>│<span style=\"color: #800080; text-decoration-color: #800080\">              </span>│<span style=\"color: #008000; text-decoration-color: #008000\">                            \"1\": 1.0, </span>│\n",
       "│<span style=\"color: #008080; text-decoration-color: #008080\">                        </span>│<span style=\"color: #800080; text-decoration-color: #800080\">              </span>│<span style=\"color: #008000; text-decoration-color: #008000\">                           \"10\": 1.0, </span>│\n",
       "│<span style=\"color: #008080; text-decoration-color: #008080\">                        </span>│<span style=\"color: #800080; text-decoration-color: #800080\">              </span>│<span style=\"color: #008000; text-decoration-color: #008000\">            \"100\": 0.999919948767211, </span>│\n",
       "│<span style=\"color: #008080; text-decoration-color: #008080\">                        </span>│<span style=\"color: #800080; text-decoration-color: #800080\">              </span>│<span style=\"color: #008000; text-decoration-color: #008000\">                          \"1000\": 1.0 </span>│\n",
       "│<span style=\"color: #008080; text-decoration-color: #008080\">                        </span>│<span style=\"color: #800080; text-decoration-color: #800080\">              </span>│<span style=\"color: #008000; text-decoration-color: #008000\">                                    } </span>│\n",
       "│<span style=\"color: #008080; text-decoration-color: #008080\"> MRED_ARTIST_POPULARITY </span>│<span style=\"color: #800080; text-decoration-color: #800080\">              </span>│<span style=\"color: #008000; text-decoration-color: #008000\">                                    { </span>│\n",
       "│<span style=\"color: #008080; text-decoration-color: #008080\">                        </span>│<span style=\"color: #800080; text-decoration-color: #800080\">              </span>│<span style=\"color: #008000; text-decoration-color: #008000\">     \"mred\": -4.1421591400442326e-05, </span>│\n",
       "│<span style=\"color: #008080; text-decoration-color: #008080\">                        </span>│<span style=\"color: #800080; text-decoration-color: #800080\">              </span>│<span style=\"color: #008000; text-decoration-color: #008000\">            \"mr\": 0.9999663548886347, </span>│\n",
       "│<span style=\"color: #008080; text-decoration-color: #008080\">                        </span>│<span style=\"color: #800080; text-decoration-color: #800080\">              </span>│<span style=\"color: #008000; text-decoration-color: #008000\">                            \"1\": 1.0, </span>│\n",
       "│<span style=\"color: #008080; text-decoration-color: #008080\">                        </span>│<span style=\"color: #800080; text-decoration-color: #800080\">              </span>│<span style=\"color: #008000; text-decoration-color: #008000\">                          \"100\": 1.0, </span>│\n",
       "│<span style=\"color: #008080; text-decoration-color: #008080\">                        </span>│<span style=\"color: #800080; text-decoration-color: #800080\">              </span>│<span style=\"color: #008000; text-decoration-color: #008000\">                         \"1000\": 1.0, </span>│\n",
       "│<span style=\"color: #008080; text-decoration-color: #008080\">                        </span>│<span style=\"color: #800080; text-decoration-color: #800080\">              </span>│<span style=\"color: #008000; text-decoration-color: #008000\">          \"10000\": 0.9999016038571288 </span>│\n",
       "│<span style=\"color: #008080; text-decoration-color: #008080\">                        </span>│<span style=\"color: #800080; text-decoration-color: #800080\">              </span>│<span style=\"color: #008000; text-decoration-color: #008000\">                                    } </span>│\n",
       "│<span style=\"color: #008080; text-decoration-color: #008080\">            MRED_GENDER </span>│<span style=\"color: #800080; text-decoration-color: #800080\">              </span>│<span style=\"color: #008000; text-decoration-color: #008000\">                                    { </span>│\n",
       "│<span style=\"color: #008080; text-decoration-color: #008080\">                        </span>│<span style=\"color: #800080; text-decoration-color: #800080\">              </span>│<span style=\"color: #008000; text-decoration-color: #008000\">      \"mred\": -9.710355382708258e-05, </span>│\n",
       "│<span style=\"color: #008080; text-decoration-color: #008080\">                        </span>│<span style=\"color: #800080; text-decoration-color: #800080\">              </span>│<span style=\"color: #008000; text-decoration-color: #008000\">            \"mr\": 0.9999663548886347, </span>│\n",
       "│<span style=\"color: #008080; text-decoration-color: #008080\">                        </span>│<span style=\"color: #800080; text-decoration-color: #800080\">              </span>│<span style=\"color: #008000; text-decoration-color: #008000\">              \"f\": 0.999742334449884, </span>│\n",
       "│<span style=\"color: #008080; text-decoration-color: #008080\">                        </span>│<span style=\"color: #800080; text-decoration-color: #800080\">              </span>│<span style=\"color: #008000; text-decoration-color: #008000\">                            \"m\": 1.0, </span>│\n",
       "│<span style=\"color: #008080; text-decoration-color: #008080\">                        </span>│<span style=\"color: #800080; text-decoration-color: #800080\">              </span>│<span style=\"color: #008000; text-decoration-color: #008000\">                             \"n\": 1.0 </span>│\n",
       "│<span style=\"color: #008080; text-decoration-color: #008080\">                        </span>│<span style=\"color: #800080; text-decoration-color: #800080\">              </span>│<span style=\"color: #008000; text-decoration-color: #008000\">                                    } </span>│\n",
       "│<span style=\"color: #008080; text-decoration-color: #008080\">       BEING_LESS_WRONG </span>│<span style=\"color: #800080; text-decoration-color: #800080\">              </span>│<span style=\"color: #008000; text-decoration-color: #008000\">                               0.0022 </span>│\n",
       "└────────────────────────┴──────────────┴──────────────────────────────────────┘\n",
       "</pre>\n"
      ],
      "text/plain": [
       "\u001b[3m                                 EvalRSReclist                                  \u001b[0m\n",
       "┏━━━━━━━━━━━━━━━━━━━━━━━━┳━━━━━━━━━━━━━━┳━━━━━━━━━━━━━━━━━━━━━━━━━━━━━━━━━━━━━━┓\n",
       "┃\u001b[1m \u001b[0m\u001b[1m                  Type\u001b[0m\u001b[1m \u001b[0m┃\u001b[1m \u001b[0m\u001b[1mDescription \u001b[0m\u001b[1m \u001b[0m┃\u001b[1m \u001b[0m\u001b[1m                              Result\u001b[0m\u001b[1m \u001b[0m┃\n",
       "┡━━━━━━━━━━━━━━━━━━━━━━━━╇━━━━━━━━━━━━━━╇━━━━━━━━━━━━━━━━━━━━━━━━━━━━━━━━━━━━━━┩\n",
       "│\u001b[36m \u001b[0m\u001b[36m                 stats\u001b[0m\u001b[36m \u001b[0m│\u001b[35m \u001b[0m\u001b[35m            \u001b[0m\u001b[35m \u001b[0m│\u001b[32m \u001b[0m\u001b[32m                                   {\u001b[0m\u001b[32m \u001b[0m│\n",
       "│\u001b[36m                        \u001b[0m│\u001b[35m              \u001b[0m│\u001b[32m \u001b[0m\u001b[32m                 \"num_users\": 29722,\u001b[0m\u001b[32m \u001b[0m│\n",
       "│\u001b[36m                        \u001b[0m│\u001b[35m              \u001b[0m│\u001b[32m \u001b[0m\u001b[32m                     \"max_items\": 1,\u001b[0m\u001b[32m \u001b[0m│\n",
       "│\u001b[36m                        \u001b[0m│\u001b[35m              \u001b[0m│\u001b[32m \u001b[0m\u001b[32m                      \"min_items\": 1\u001b[0m\u001b[32m \u001b[0m│\n",
       "│\u001b[36m                        \u001b[0m│\u001b[35m              \u001b[0m│\u001b[32m \u001b[0m\u001b[32m                                   }\u001b[0m\u001b[32m \u001b[0m│\n",
       "│\u001b[36m \u001b[0m\u001b[36m              HIT_RATE\u001b[0m\u001b[36m \u001b[0m│\u001b[35m \u001b[0m\u001b[35m            \u001b[0m\u001b[35m \u001b[0m│\u001b[32m \u001b[0m\u001b[32m                                 0.0\u001b[0m\u001b[32m \u001b[0m│\n",
       "│\u001b[36m \u001b[0m\u001b[36m                   MRR\u001b[0m\u001b[36m \u001b[0m│\u001b[35m \u001b[0m\u001b[35m            \u001b[0m\u001b[35m \u001b[0m│\u001b[32m \u001b[0m\u001b[32m                                 0.0\u001b[0m\u001b[32m \u001b[0m│\n",
       "│\u001b[36m \u001b[0m\u001b[36m          MRED_COUNTRY\u001b[0m\u001b[36m \u001b[0m│\u001b[35m \u001b[0m\u001b[35m            \u001b[0m\u001b[35m \u001b[0m│\u001b[32m \u001b[0m\u001b[32m                                   {\u001b[0m\u001b[32m \u001b[0m│\n",
       "│\u001b[36m                        \u001b[0m│\u001b[35m              \u001b[0m│\u001b[32m \u001b[0m\u001b[32m     \"mred\": -6.021999365231544e-05,\u001b[0m\u001b[32m \u001b[0m│\n",
       "│\u001b[36m                        \u001b[0m│\u001b[35m              \u001b[0m│\u001b[32m \u001b[0m\u001b[32m            \"mr\": 0.999961993082741,\u001b[0m\u001b[32m \u001b[0m│\n",
       "│\u001b[36m                        \u001b[0m│\u001b[35m              \u001b[0m│\u001b[32m \u001b[0m\u001b[32m                          \"BR\": 1.0,\u001b[0m\u001b[32m \u001b[0m│\n",
       "│\u001b[36m                        \u001b[0m│\u001b[35m              \u001b[0m│\u001b[32m \u001b[0m\u001b[32m                          \"CA\": 1.0,\u001b[0m\u001b[32m \u001b[0m│\n",
       "│\u001b[36m                        \u001b[0m│\u001b[35m              \u001b[0m│\u001b[32m \u001b[0m\u001b[32m                          \"DE\": 1.0,\u001b[0m\u001b[32m \u001b[0m│\n",
       "│\u001b[36m                        \u001b[0m│\u001b[35m              \u001b[0m│\u001b[32m \u001b[0m\u001b[32m                          \"ES\": 1.0,\u001b[0m\u001b[32m \u001b[0m│\n",
       "│\u001b[36m                        \u001b[0m│\u001b[35m              \u001b[0m│\u001b[32m \u001b[0m\u001b[32m                          \"FI\": 1.0,\u001b[0m\u001b[32m \u001b[0m│\n",
       "│\u001b[36m                        \u001b[0m│\u001b[35m              \u001b[0m│\u001b[32m \u001b[0m\u001b[32m                          \"FR\": 1.0,\u001b[0m\u001b[32m \u001b[0m│\n",
       "│\u001b[36m                        \u001b[0m│\u001b[35m              \u001b[0m│\u001b[32m \u001b[0m\u001b[32m                          \"NL\": 1.0,\u001b[0m\u001b[32m \u001b[0m│\n",
       "│\u001b[36m                        \u001b[0m│\u001b[35m              \u001b[0m│\u001b[32m \u001b[0m\u001b[32m                         \"NaN\": 1.0,\u001b[0m\u001b[32m \u001b[0m│\n",
       "│\u001b[36m                        \u001b[0m│\u001b[35m              \u001b[0m│\u001b[32m \u001b[0m\u001b[32m                          \"PL\": 1.0,\u001b[0m\u001b[32m \u001b[0m│\n",
       "│\u001b[36m                        \u001b[0m│\u001b[35m              \u001b[0m│\u001b[32m \u001b[0m\u001b[32m                          \"RU\": 1.0,\u001b[0m\u001b[32m \u001b[0m│\n",
       "│\u001b[36m                        \u001b[0m│\u001b[35m              \u001b[0m│\u001b[32m \u001b[0m\u001b[32m                          \"SE\": 1.0,\u001b[0m\u001b[32m \u001b[0m│\n",
       "│\u001b[36m                        \u001b[0m│\u001b[35m              \u001b[0m│\u001b[32m \u001b[0m\u001b[32m                          \"UA\": 1.0,\u001b[0m\u001b[32m \u001b[0m│\n",
       "│\u001b[36m                        \u001b[0m│\u001b[35m              \u001b[0m│\u001b[32m \u001b[0m\u001b[32m                          \"UK\": 1.0,\u001b[0m\u001b[32m \u001b[0m│\n",
       "│\u001b[36m                        \u001b[0m│\u001b[35m              \u001b[0m│\u001b[32m \u001b[0m\u001b[32m            \"US\": 0.9996130030959752\u001b[0m\u001b[32m \u001b[0m│\n",
       "│\u001b[36m                        \u001b[0m│\u001b[35m              \u001b[0m│\u001b[32m \u001b[0m\u001b[32m                                   }\u001b[0m\u001b[32m \u001b[0m│\n",
       "│\u001b[36m \u001b[0m\u001b[36m    MRED_USER_ACTIVITY\u001b[0m\u001b[36m \u001b[0m│\u001b[35m \u001b[0m\u001b[35m            \u001b[0m\u001b[35m \u001b[0m│\u001b[32m \u001b[0m\u001b[32m                                   {\u001b[0m\u001b[32m \u001b[0m│\n",
       "│\u001b[36m                        \u001b[0m│\u001b[35m              \u001b[0m│\u001b[32m \u001b[0m\u001b[32m     \"mred\": -2.549544725512683e-05,\u001b[0m\u001b[32m \u001b[0m│\n",
       "│\u001b[36m                        \u001b[0m│\u001b[35m              \u001b[0m│\u001b[32m \u001b[0m\u001b[32m           \"mr\": 0.9999663548886347,\u001b[0m\u001b[32m \u001b[0m│\n",
       "│\u001b[36m                        \u001b[0m│\u001b[35m              \u001b[0m│\u001b[32m \u001b[0m\u001b[32m                           \"1\": 1.0,\u001b[0m\u001b[32m \u001b[0m│\n",
       "│\u001b[36m                        \u001b[0m│\u001b[35m              \u001b[0m│\u001b[32m \u001b[0m\u001b[32m          \"100\": 0.9999571587695999,\u001b[0m\u001b[32m \u001b[0m│\n",
       "│\u001b[36m                        \u001b[0m│\u001b[35m              \u001b[0m│\u001b[32m \u001b[0m\u001b[32m                         \"1000\": 1.0\u001b[0m\u001b[32m \u001b[0m│\n",
       "│\u001b[36m                        \u001b[0m│\u001b[35m              \u001b[0m│\u001b[32m \u001b[0m\u001b[32m                                   }\u001b[0m\u001b[32m \u001b[0m│\n",
       "│\u001b[36m \u001b[0m\u001b[36m MRED_TRACK_POPULARITY\u001b[0m\u001b[36m \u001b[0m│\u001b[35m \u001b[0m\u001b[35m            \u001b[0m\u001b[35m \u001b[0m│\u001b[32m \u001b[0m\u001b[32m                                   {\u001b[0m\u001b[32m \u001b[0m│\n",
       "│\u001b[36m                        \u001b[0m│\u001b[35m              \u001b[0m│\u001b[32m \u001b[0m\u001b[32m     \"mred\": -3.683536387988351e-05,\u001b[0m\u001b[32m \u001b[0m│\n",
       "│\u001b[36m                        \u001b[0m│\u001b[35m              \u001b[0m│\u001b[32m \u001b[0m\u001b[32m           \"mr\": 0.9999663548886347,\u001b[0m\u001b[32m \u001b[0m│\n",
       "│\u001b[36m                        \u001b[0m│\u001b[35m              \u001b[0m│\u001b[32m \u001b[0m\u001b[32m                           \"1\": 1.0,\u001b[0m\u001b[32m \u001b[0m│\n",
       "│\u001b[36m                        \u001b[0m│\u001b[35m              \u001b[0m│\u001b[32m \u001b[0m\u001b[32m                          \"10\": 1.0,\u001b[0m\u001b[32m \u001b[0m│\n",
       "│\u001b[36m                        \u001b[0m│\u001b[35m              \u001b[0m│\u001b[32m \u001b[0m\u001b[32m           \"100\": 0.999919948767211,\u001b[0m\u001b[32m \u001b[0m│\n",
       "│\u001b[36m                        \u001b[0m│\u001b[35m              \u001b[0m│\u001b[32m \u001b[0m\u001b[32m                         \"1000\": 1.0\u001b[0m\u001b[32m \u001b[0m│\n",
       "│\u001b[36m                        \u001b[0m│\u001b[35m              \u001b[0m│\u001b[32m \u001b[0m\u001b[32m                                   }\u001b[0m\u001b[32m \u001b[0m│\n",
       "│\u001b[36m \u001b[0m\u001b[36mMRED_ARTIST_POPULARITY\u001b[0m\u001b[36m \u001b[0m│\u001b[35m \u001b[0m\u001b[35m            \u001b[0m\u001b[35m \u001b[0m│\u001b[32m \u001b[0m\u001b[32m                                   {\u001b[0m\u001b[32m \u001b[0m│\n",
       "│\u001b[36m                        \u001b[0m│\u001b[35m              \u001b[0m│\u001b[32m \u001b[0m\u001b[32m    \"mred\": -4.1421591400442326e-05,\u001b[0m\u001b[32m \u001b[0m│\n",
       "│\u001b[36m                        \u001b[0m│\u001b[35m              \u001b[0m│\u001b[32m \u001b[0m\u001b[32m           \"mr\": 0.9999663548886347,\u001b[0m\u001b[32m \u001b[0m│\n",
       "│\u001b[36m                        \u001b[0m│\u001b[35m              \u001b[0m│\u001b[32m \u001b[0m\u001b[32m                           \"1\": 1.0,\u001b[0m\u001b[32m \u001b[0m│\n",
       "│\u001b[36m                        \u001b[0m│\u001b[35m              \u001b[0m│\u001b[32m \u001b[0m\u001b[32m                         \"100\": 1.0,\u001b[0m\u001b[32m \u001b[0m│\n",
       "│\u001b[36m                        \u001b[0m│\u001b[35m              \u001b[0m│\u001b[32m \u001b[0m\u001b[32m                        \"1000\": 1.0,\u001b[0m\u001b[32m \u001b[0m│\n",
       "│\u001b[36m                        \u001b[0m│\u001b[35m              \u001b[0m│\u001b[32m \u001b[0m\u001b[32m         \"10000\": 0.9999016038571288\u001b[0m\u001b[32m \u001b[0m│\n",
       "│\u001b[36m                        \u001b[0m│\u001b[35m              \u001b[0m│\u001b[32m \u001b[0m\u001b[32m                                   }\u001b[0m\u001b[32m \u001b[0m│\n",
       "│\u001b[36m \u001b[0m\u001b[36m           MRED_GENDER\u001b[0m\u001b[36m \u001b[0m│\u001b[35m \u001b[0m\u001b[35m            \u001b[0m\u001b[35m \u001b[0m│\u001b[32m \u001b[0m\u001b[32m                                   {\u001b[0m\u001b[32m \u001b[0m│\n",
       "│\u001b[36m                        \u001b[0m│\u001b[35m              \u001b[0m│\u001b[32m \u001b[0m\u001b[32m     \"mred\": -9.710355382708258e-05,\u001b[0m\u001b[32m \u001b[0m│\n",
       "│\u001b[36m                        \u001b[0m│\u001b[35m              \u001b[0m│\u001b[32m \u001b[0m\u001b[32m           \"mr\": 0.9999663548886347,\u001b[0m\u001b[32m \u001b[0m│\n",
       "│\u001b[36m                        \u001b[0m│\u001b[35m              \u001b[0m│\u001b[32m \u001b[0m\u001b[32m             \"f\": 0.999742334449884,\u001b[0m\u001b[32m \u001b[0m│\n",
       "│\u001b[36m                        \u001b[0m│\u001b[35m              \u001b[0m│\u001b[32m \u001b[0m\u001b[32m                           \"m\": 1.0,\u001b[0m\u001b[32m \u001b[0m│\n",
       "│\u001b[36m                        \u001b[0m│\u001b[35m              \u001b[0m│\u001b[32m \u001b[0m\u001b[32m                            \"n\": 1.0\u001b[0m\u001b[32m \u001b[0m│\n",
       "│\u001b[36m                        \u001b[0m│\u001b[35m              \u001b[0m│\u001b[32m \u001b[0m\u001b[32m                                   }\u001b[0m\u001b[32m \u001b[0m│\n",
       "│\u001b[36m \u001b[0m\u001b[36m      BEING_LESS_WRONG\u001b[0m\u001b[36m \u001b[0m│\u001b[35m \u001b[0m\u001b[35m            \u001b[0m\u001b[35m \u001b[0m│\u001b[32m \u001b[0m\u001b[32m                              0.0022\u001b[0m\u001b[32m \u001b[0m│\n",
       "└────────────────────────┴──────────────┴──────────────────────────────────────┘\n"
      ]
     },
     "metadata": {},
     "output_type": "display_data"
    },
    {
     "data": {
      "image/png": "[encoded data removed]",
      "text/plain": [
       "<Figure size 640x480 with 1 Axes>"
      ]
     },
     "metadata": {},
     "output_type": "display_data"
    },
    {
     "data": {
      "image/png": "[encoded data removed]",
      "text/plain": [
       "<Figure size 640x480 with 1 Axes>"
      ]
     },
     "metadata": {},
     "output_type": "display_data"
    },
    {
     "data": {
      "image/png": "[encoded data removed]",
      "text/plain": [
       "<Figure size 640x480 with 1 Axes>"
      ]
     },
     "metadata": {},
     "output_type": "display_data"
    },
    {
     "data": {
      "image/png": "[encoded data removed]",
      "text/plain": [
       "<Figure size 640x480 with 1 Axes>"
      ]
     },
     "metadata": {},
     "output_type": "display_data"
    },
    {
     "data": {
      "image/png": "[encoded data removed]",
      "text/plain": [
       "<Figure size 640x480 with 1 Axes>"
      ]
     },
     "metadata": {},
     "output_type": "display_data"
    }
   ],
   "source": [
    "# load a similarity model: here we used\n",
    "similarity_model = KeyedVectors.load(os.path.join(dataset.path_to_dataset, 'song2vec.wv'))\n",
    "\n",
    "# initialize with everything\n",
    "cdf = EvalRSReclist(\n",
    "    dataset=dataset,\n",
    "    model_name=\"SimpleModel\",\n",
    "    predictions=df_predictions,\n",
    "    logger=LOGGER.LOCAL,\n",
    "    metadata_store=METADATA_STORE.LOCAL,\n",
    "    similarity_model=similarity_model,\n",
    ")\n",
    "\n",
    "# run reclist\n",
    "cdf(verbose=True)"
   ]
  },
  {
   "cell_type": "code",
   "execution_count": null,
   "id": "27a32ef6-d918-42f2-8733-8265c558e162",
   "metadata": {},
   "outputs": [],
   "source": []
  }
 ],
 "metadata": {
  "kernelspec": {
   "display_name": "Python 3 (ipykernel)",
   "language": "python",
   "name": "python3"
  },
  "language_info": {
   "codemirror_mode": {
    "name": "ipython",
    "version": 3
   },
   "file_extension": ".py",
   "mimetype": "text/x-python",
   "name": "python",
   "nbconvert_exporter": "python",
   "pygments_lexer": "ipython3",
   "version": "3.9.5"
  }
 },
 "nbformat": 4,
 "nbformat_minor": 5
}
